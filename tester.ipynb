{
 "cells": [
  {
   "cell_type": "code",
   "execution_count": 5,
   "id": "b97ba88b-d60a-4ed8-9b3b-0d46f67bc979",
   "metadata": {},
   "outputs": [
    {
     "name": "stdout",
     "output_type": "stream",
     "text": [
      "Requirement already satisfied: mtcnn in c:\\users\\hp\\anaconda3\\lib\\site-packages (1.0.0)\n",
      "Requirement already satisfied: joblib>=1.4.2 in c:\\users\\hp\\anaconda3\\lib\\site-packages (from mtcnn) (1.4.2)\n",
      "Requirement already satisfied: lz4>=4.3.3 in c:\\users\\hp\\anaconda3\\lib\\site-packages (from mtcnn) (4.4.3)\n",
      "Note: you may need to restart the kernel to use updated packages.\n"
     ]
    }
   ],
   "source": [
    "pip install mtcnn"
   ]
  },
  {
   "cell_type": "code",
   "execution_count": 15,
   "id": "3316e268-baec-4d92-8095-d2caefc3c185",
   "metadata": {},
   "outputs": [
    {
     "name": "stdout",
     "output_type": "stream",
     "text": [
      "\u001b[1m10/10\u001b[0m \u001b[32m━━━━━━━━━━━━━━━━━━━━\u001b[0m\u001b[37m\u001b[0m \u001b[1m2s\u001b[0m 169ms/step\n",
      "The video 'C:\\Users\\HP\\Downloads\\Deepfake\\fake-agotmizucf-0.mp4' is predicted to be FAKE.\n"
     ]
    },
    {
     "data": {
      "text/plain": [
       "0.99980915"
      ]
     },
     "execution_count": 15,
     "metadata": {},
     "output_type": "execute_result"
    }
   ],
   "source": [
    "import os\n",
    "import cv2\n",
    "import numpy as np\n",
    "from mtcnn import MTCNN\n",
    "from tensorflow.keras.models import load_model, Sequential\n",
    "from tensorflow.keras.layers import Conv2D, MaxPooling2D, Flatten, Dense, Dropout\n",
    "from tensorflow.keras.preprocessing.image import img_to_array\n",
    "\n",
    "# Initialize MTCNN face detector\n",
    "detector = MTCNN()\n",
    "\n",
    "model = Sequential([\n",
    "    Conv2D(32, (3, 3), activation='relu', input_shape=(224, 224, 3)),\n",
    "    MaxPooling2D((2, 2)),\n",
    "    Conv2D(64, (3, 3), activation='relu'),\n",
    "    MaxPooling2D((2, 2)),\n",
    "    Conv2D(128, (3, 3), activation='relu'),\n",
    "    MaxPooling2D((2, 2)),\n",
    "    Flatten(),\n",
    "    Dense(128, activation='relu'),\n",
    "    Dropout(0.5),\n",
    "    Dense(1, activation='sigmoid')\n",
    "])\n",
    "\n",
    "# load the model\n",
    "model.load_weights('trained_model.h5')\n",
    "def extract_faces_from_video(video_path, target_size=(224, 224)):\n",
    "    cap = cv2.VideoCapture(video_path)\n",
    "    faces = []\n",
    "\n",
    "    while cap.isOpened():\n",
    "        ret, frame = cap.read()\n",
    "        if not ret:\n",
    "            break\n",
    "\n",
    "        frame_rgb = cv2.cvtColor(frame, cv2.COLOR_BGR2RGB)\n",
    "        detected_faces = detector.detect_faces(frame_rgb)\n",
    "\n",
    "        for face in detected_faces:\n",
    "            x, y, width, height = face['box']\n",
    "            face_img = frame_rgb[y:y+height, x:x+width]\n",
    "            face_img = cv2.resize(face_img, target_size)\n",
    "            face_array = img_to_array(face_img) / 255.0\n",
    "            faces.append(face_array)\n",
    "    \n",
    "    cap.release()\n",
    "    return np.array(faces)\n",
    "\n",
    "# Function to predict if the video is fake or real\n",
    "def predict_video(video_path):\n",
    "    faces = extract_faces_from_video(video_path)\n",
    "    if len(faces) == 0:\n",
    "        print(\"No faces detected in the video.\")\n",
    "        return None\n",
    "\n",
    "    # Reshape faces to match the input shape expected by the model\n",
    "    faces = np.reshape(faces, (faces.shape[0], faces.shape[1], faces.shape[2], faces.shape[3]))\n",
    "\n",
    "    predictions = model.predict(faces)\n",
    "    avg_prediction = np.mean(predictions)\n",
    "\n",
    "    if avg_prediction > 0.5:\n",
    "        print(f\"The video '{video_path}' is predicted to be FAKE.\")\n",
    "    else:\n",
    "        print(f\"The video '{video_path}' is predicted to be REAL.\")\n",
    "\n",
    "    return avg_prediction\n",
    "\n",
    "# Test the prediction function with a sample video\n",
    "video_path = r'C:\\Users\\HP\\Downloads\\Deepfake\\fake-agotmizucf-0.mp4'  # Update with the actual path to the test video\n",
    "predict_video(video_path)\n"
   ]
  },
  {
   "cell_type": "code",
   "execution_count": null,
   "id": "42fa9267-2a62-4731-9969-49f93e6a8a2d",
   "metadata": {},
   "outputs": [],
   "source": []
  }
 ],
 "metadata": {
  "kernelspec": {
   "display_name": "Python 3 (ipykernel)",
   "language": "python",
   "name": "python3"
  },
  "language_info": {
   "codemirror_mode": {
    "name": "ipython",
    "version": 3
   },
   "file_extension": ".py",
   "mimetype": "text/x-python",
   "name": "python",
   "nbconvert_exporter": "python",
   "pygments_lexer": "ipython3",
   "version": "3.12.7"
  }
 },
 "nbformat": 4,
 "nbformat_minor": 5
}
